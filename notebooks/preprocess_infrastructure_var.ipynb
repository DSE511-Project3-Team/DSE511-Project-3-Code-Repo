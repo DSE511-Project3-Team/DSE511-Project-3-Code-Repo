{
 "cells": [
  {
   "cell_type": "markdown",
   "id": "a545839d",
   "metadata": {},
   "source": [
    "This notebook preprocess the infrastructure variables of the accident data.\n",
    "\n",
    "The infrastructure variables include:\n",
    "\n",
    "'Traffic_Signal', 'Crossing', 'Station','Amenity', 'Bump', 'Give_Way', 'Junction', 'No_Exit', 'Railway', 'Roundabout','Stop', 'Traffic_Calming', 'Turning_Loop'."
   ]
  },
  {
   "cell_type": "code",
   "execution_count": 1,
   "id": "c90d019f",
   "metadata": {},
   "outputs": [],
   "source": [
    "import numpy as np\n",
    "import pandas as pd"
   ]
  },
  {
   "cell_type": "code",
   "execution_count": 2,
   "id": "c104cfc2",
   "metadata": {},
   "outputs": [],
   "source": [
    "accident_df = pd.read_csv('../data/raw/accident_data.csv')\n",
    "infra_vars = ['Traffic_Signal', 'Crossing', 'Station','Amenity', 'Bump', 'Give_Way', \n",
    "                  'Junction', 'No_Exit', 'Railway', 'Roundabout','Stop', 'Traffic_Calming', 'Turning_Loop']\n",
    "infra_accident_df = accident_df[infra_vars]"
   ]
  },
  {
   "cell_type": "code",
   "execution_count": 3,
   "id": "27ed4db1",
   "metadata": {},
   "outputs": [
    {
     "name": "stdout",
     "output_type": "stream",
     "text": [
      "Number of missing rows by column \n",
      " Traffic_Signal     0\n",
      "Crossing           0\n",
      "Station            0\n",
      "Amenity            0\n",
      "Bump               0\n",
      "Give_Way           0\n",
      "Junction           0\n",
      "No_Exit            0\n",
      "Railway            0\n",
      "Roundabout         0\n",
      "Stop               0\n",
      "Traffic_Calming    0\n",
      "Turning_Loop       0\n",
      "dtype: int64\n"
     ]
    }
   ],
   "source": [
    "print('Number of missing rows by column', '\\n', infra_accident_df.isnull().sum())"
   ]
  },
  {
   "cell_type": "markdown",
   "id": "f2c920f9",
   "metadata": {},
   "source": [
    "There is no missing value and duplicated meaing variables, all of the infra structures variables would be used. "
   ]
  }
 ],
 "metadata": {
  "kernelspec": {
   "display_name": "Python 3",
   "language": "python",
   "name": "python3"
  },
  "language_info": {
   "codemirror_mode": {
    "name": "ipython",
    "version": 3
   },
   "file_extension": ".py",
   "mimetype": "text/x-python",
   "name": "python",
   "nbconvert_exporter": "python",
   "pygments_lexer": "ipython3",
   "version": "3.8.8"
  }
 },
 "nbformat": 4,
 "nbformat_minor": 5
}
