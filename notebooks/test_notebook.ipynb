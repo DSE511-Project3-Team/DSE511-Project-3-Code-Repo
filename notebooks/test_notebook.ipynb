{
 "cells": [
  {
   "cell_type": "code",
   "execution_count": 2,
   "id": "57be635c",
   "metadata": {},
   "outputs": [
    {
     "name": "stdout",
     "output_type": "stream",
     "text": [
      "The autoreload extension is already loaded. To reload it, use:\n",
      "  %reload_ext autoreload\n"
     ]
    }
   ],
   "source": [
    "%load_ext autoreload\n",
    "%autoreload 2\n",
    "\n",
    "import time\n",
    "import numpy as np\n",
    "import pandas as pd\n",
    "from sklearn.decomposition import PCA\n",
    "import sys\n",
    "\n",
    "sys.path.insert(1, '../preprocessing')\n",
    "from preprocessing_functions import *\n",
    "from process_modelling_data import get_modelling_data"
   ]
  },
  {
   "cell_type": "code",
   "execution_count": 5,
   "id": "cf64cdfb",
   "metadata": {},
   "outputs": [
    {
     "name": "stdout",
     "output_type": "stream",
     "text": [
      "Data Download Time 41.16887712478638 secs\n"
     ]
    }
   ],
   "source": [
    "start_time = time.time()\n",
    "accident_df = pd.read_csv('https://www.dropbox.com/s/mdw2asjrh8bm038/US_Accidents_Dec20_updated.csv?dl=1')\n",
    "download_time = time.time() - start_time\n",
    "print(f\"Data Download Time {download_time} secs\")"
   ]
  },
  {
   "cell_type": "code",
   "execution_count": 6,
   "id": "37f3d70e",
   "metadata": {},
   "outputs": [],
   "source": [
    "city_list = ['Phoenix', 'Los Angeles', 'New York', 'Philadelphia', 'Houston', 'Chicago']\n",
    "state_list = ['AZ', 'CA', 'NY', 'PA', 'TX', 'IL']\n",
    "six_cities_df = isolate_city_state(accident_df, city_list, state_list)"
   ]
  },
  {
   "cell_type": "code",
   "execution_count": 8,
   "id": "09adc104",
   "metadata": {},
   "outputs": [
    {
     "name": "stdout",
     "output_type": "stream",
     "text": [
      "KNN Imputation Time 2.595370348294576 mins\n"
     ]
    },
    {
     "name": "stderr",
     "output_type": "stream",
     "text": [
      "/Users/sanjeevsingh/Dropbox/Courses/DSE511/Project-3/DSE511-Project-3-Code-Repo/src/preprocessing/preprocessing_functions.py:55: SettingWithCopyWarning: \n",
      "A value is trying to be set on a copy of a slice from a DataFrame.\n",
      "Try using .loc[row_indexer,col_indexer] = value instead\n",
      "\n",
      "See the caveats in the documentation: https://pandas.pydata.org/pandas-docs/stable/user_guide/indexing.html#returning-a-view-versus-a-copy\n",
      "  df[cols] = vals_arr\n",
      "/Users/sanjeevsingh/opt/anaconda3/envs/py3/lib/python3.9/site-packages/pandas/core/indexing.py:1637: SettingWithCopyWarning: \n",
      "A value is trying to be set on a copy of a slice from a DataFrame\n",
      "\n",
      "See the caveats in the documentation: https://pandas.pydata.org/pandas-docs/stable/user_guide/indexing.html#returning-a-view-versus-a-copy\n",
      "  self._setitem_single_block(indexer, value, name)\n",
      "/Users/sanjeevsingh/opt/anaconda3/envs/py3/lib/python3.9/site-packages/pandas/core/indexing.py:692: SettingWithCopyWarning: \n",
      "A value is trying to be set on a copy of a slice from a DataFrame\n",
      "\n",
      "See the caveats in the documentation: https://pandas.pydata.org/pandas-docs/stable/user_guide/indexing.html#returning-a-view-versus-a-copy\n",
      "  iloc._setitem_with_indexer(indexer, value, self.name)\n"
     ]
    }
   ],
   "source": [
    "# Perform OLS Imputation\n",
    "six_cities_df[\"Wind_Temp\"] = six_cities_df['Wind_Chill(F)'].fillna((six_cities_df['Temperature(F)']*1.0178 - six_cities_df['Wind_Speed(mph)']*0.3023))\n",
    "six_cities_df = six_cities_df.drop(\"Wind_Chill(F)\", axis=1)\n",
    "env_vars_numeric = ['Temperature(F)', 'Wind_Temp', 'Humidity(%)', 'Pressure(in)', \n",
    "                    'Visibility(mi)', 'Wind_Speed(mph)', 'Precipitation(in)']\n",
    "\n",
    "# Perform KNN Imputation\n",
    "start_time = time.time()\n",
    "Imputed_env_vars = knn_imputer(subset_df(six_cities_df, env_vars_numeric), k=3)\n",
    "knn_imputation_time = time.time() - start_time\n",
    "print(f\"KNN Imputation Time {knn_imputation_time / 60} mins\")\n",
    "\n",
    "# Perform Basic Imputation\n",
    "Imputed_env_vars=basic_impute(Imputed_env_vars)\n",
    "six_cities_df[env_vars_numeric] = Imputed_env_vars"
   ]
  },
  {
   "cell_type": "code",
   "execution_count": 9,
   "id": "ee5b8fca",
   "metadata": {},
   "outputs": [
    {
     "data": {
      "text/plain": [
       "ID                        0.000000\n",
       "Severity                  0.000000\n",
       "Start_Time                0.000000\n",
       "End_Time                  0.000000\n",
       "Start_Lat                 0.000000\n",
       "Start_Lng                 0.000000\n",
       "End_Lat                   0.000000\n",
       "End_Lng                   0.000000\n",
       "Distance(mi)              0.000000\n",
       "Description               0.000000\n",
       "Number                   75.159532\n",
       "Street                    0.000000\n",
       "Side                      0.000000\n",
       "City                      0.000000\n",
       "County                    0.000000\n",
       "State                     0.000000\n",
       "Zipcode                   0.000000\n",
       "Country                   0.000000\n",
       "Timezone                  0.000000\n",
       "Airport_Code              0.000000\n",
       "Weather_Timestamp         0.798487\n",
       "Temperature(F)            0.000000\n",
       "Humidity(%)               0.000000\n",
       "Pressure(in)              0.000000\n",
       "Visibility(mi)            0.000000\n",
       "Wind_Direction            0.000000\n",
       "Wind_Speed(mph)           0.000000\n",
       "Precipitation(in)         0.000000\n",
       "Weather_Condition         0.000000\n",
       "Amenity                   0.000000\n",
       "Bump                      0.000000\n",
       "Crossing                  0.000000\n",
       "Give_Way                  0.000000\n",
       "Junction                  0.000000\n",
       "No_Exit                   0.000000\n",
       "Railway                   0.000000\n",
       "Roundabout                0.000000\n",
       "Station                   0.000000\n",
       "Stop                      0.000000\n",
       "Traffic_Calming           0.000000\n",
       "Traffic_Signal            0.000000\n",
       "Turning_Loop              0.000000\n",
       "Sunrise_Sunset            0.000000\n",
       "Civil_Twilight            0.000000\n",
       "Nautical_Twilight         0.000000\n",
       "Astronomical_Twilight     0.000000\n",
       "Wind_Temp                 0.000000\n",
       "dtype: float64"
      ]
     },
     "execution_count": 9,
     "metadata": {},
     "output_type": "execute_result"
    }
   ],
   "source": [
    "## Impute Categorical Variables\n",
    "six_cities_df['Wind_Direction'] = six_cities_df['Wind_Direction'].fillna(six_cities_df['Wind_Direction'].mode()[0])\n",
    "six_cities_df['Weather_Condition'] = six_cities_df['Weather_Condition'].fillna(six_cities_df['Weather_Condition'].mode()[0])\n",
    "six_cities_df.isna().sum() / six_cities_df.shape[0] * 100"
   ]
  },
  {
   "cell_type": "code",
   "execution_count": 50,
   "id": "78c17305",
   "metadata": {},
   "outputs": [
    {
     "name": "stderr",
     "output_type": "stream",
     "text": [
      "/Users/sanjeevsingh/Dropbox/Courses/DSE511/Project-3/DSE511-Project-3-Code-Repo/src/preprocessing/preprocessing_functions.py:156: SettingWithCopyWarning: \n",
      "A value is trying to be set on a copy of a slice from a DataFrame.\n",
      "Try using .loc[row_indexer,col_indexer] = value instead\n",
      "\n",
      "See the caveats in the documentation: https://pandas.pydata.org/pandas-docs/stable/user_guide/indexing.html#returning-a-view-versus-a-copy\n",
      "  print(\"feature :\", numerical_features)\n",
      "/Users/sanjeevsingh/Dropbox/Courses/DSE511/Project-3/DSE511-Project-3-Code-Repo/src/preprocessing/preprocessing_functions.py:157: SettingWithCopyWarning: \n",
      "A value is trying to be set on a copy of a slice from a DataFrame.\n",
      "Try using .loc[row_indexer,col_indexer] = value instead\n",
      "\n",
      "See the caveats in the documentation: https://pandas.pydata.org/pandas-docs/stable/user_guide/indexing.html#returning-a-view-versus-a-copy\n",
      "  for feature in numerical_features:\n"
     ]
    }
   ],
   "source": [
    "six_cities_df_X = six_cities_df.copy()\n",
    "X_train, X_test, y_train, y_test = encode_std_extract_split(six_cities_df_X)"
   ]
  },
  {
   "cell_type": "code",
   "execution_count": 72,
   "id": "2fcad9a3",
   "metadata": {},
   "outputs": [],
   "source": [
    "pca = PCA(n_components=0.95, svd_solver = 'full')\n",
    "pca.fit(X_train)\n",
    "X_train_pca = pca.transform(X_train)\n",
    "X_test_pca = pca.transform(X_test)"
   ]
  },
  {
   "cell_type": "code",
   "execution_count": 68,
   "id": "4cfdea7c",
   "metadata": {},
   "outputs": [
    {
     "data": {
      "text/plain": [
       "0.8210770761915294"
      ]
     },
     "execution_count": 68,
     "metadata": {},
     "output_type": "execute_result"
    }
   ],
   "source": [
    "from sklearn.ensemble import AdaBoostClassifier\n",
    "from sklearn.metrics import accuracy_score\n",
    "\n",
    "clf = AdaBoostClassifier(n_estimators=800, random_state=0)\n",
    "clf.fit(X_train_pca, y_train)\n",
    "y_pred = clf.predict(X_test_pca)\n",
    "accuracy_score(y_test, y_pred)"
   ]
  },
  {
   "cell_type": "code",
   "execution_count": 71,
   "id": "a81bdb66",
   "metadata": {},
   "outputs": [
    {
     "data": {
      "text/plain": [
       "(81378, 29)"
      ]
     },
     "execution_count": 71,
     "metadata": {},
     "output_type": "execute_result"
    }
   ],
   "source": [
    "X_train_pca.shape"
   ]
  },
  {
   "cell_type": "code",
   "execution_count": 6,
   "id": "fd813418",
   "metadata": {},
   "outputs": [],
   "source": [
    "(X_train, X_val, X_test, X_train_pca, X_val_pca, X_test_pca, y_train, y_val, y_test) = get_modelling_data()"
   ]
  },
  {
   "cell_type": "code",
   "execution_count": 10,
   "id": "2bddb485",
   "metadata": {},
   "outputs": [
    {
     "data": {
      "text/plain": [
       "3.3544425716349626"
      ]
     },
     "execution_count": 10,
     "metadata": {},
     "output_type": "execute_result"
    }
   ],
   "source": [
    "y_train.value_counts()[0] / y_train.value_counts()[1]"
   ]
  },
  {
   "cell_type": "code",
   "execution_count": 11,
   "id": "4ea9368c",
   "metadata": {},
   "outputs": [
    {
     "data": {
      "text/plain": [
       "0.2296505197965052"
      ]
     },
     "execution_count": 11,
     "metadata": {},
     "output_type": "execute_result"
    }
   ],
   "source": [
    "16612 / (55724 + 16612)"
   ]
  },
  {
   "cell_type": "code",
   "execution_count": null,
   "id": "2d7fdfbe",
   "metadata": {},
   "outputs": [],
   "source": []
  }
 ],
 "metadata": {
  "kernelspec": {
   "display_name": "Python 3",
   "language": "python",
   "name": "python3"
  },
  "language_info": {
   "codemirror_mode": {
    "name": "ipython",
    "version": 3
   },
   "file_extension": ".py",
   "mimetype": "text/x-python",
   "name": "python",
   "nbconvert_exporter": "python",
   "pygments_lexer": "ipython3",
   "version": "3.9.4"
  }
 },
 "nbformat": 4,
 "nbformat_minor": 5
}
