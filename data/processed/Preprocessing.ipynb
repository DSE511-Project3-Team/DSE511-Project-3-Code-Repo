{
 "cells": [
  {
   "cell_type": "code",
   "execution_count": 1,
   "metadata": {},
   "outputs": [],
   "source": [
    "import pandas as pd\n",
    "import numpy as np\n",
    "import pickle"
   ]
  },
  {
   "cell_type": "code",
   "execution_count": 82,
   "metadata": {},
   "outputs": [],
   "source": [
    "raw_data = pd.read_csv('C:\\\\Users\\\\Russ\\\\Desktop\\\\Final_Project_Fall_2021\\\\accident_data.csv')"
   ]
  },
  {
   "cell_type": "code",
   "execution_count": 83,
   "metadata": {},
   "outputs": [],
   "source": [
    "# The first column Un-named is useless so I am eliminating it here:\n",
    "raw_data = raw_data.iloc[:,1:]"
   ]
  },
  {
   "cell_type": "code",
   "execution_count": 69,
   "metadata": {},
   "outputs": [
    {
     "name": "stdout",
     "output_type": "stream",
     "text": [
      "(61155, 47)\n"
     ]
    }
   ],
   "source": [
    "# The size of my entire dataset is:\n",
    "print(raw_data.shape)"
   ]
  },
  {
   "cell_type": "code",
   "execution_count": 84,
   "metadata": {},
   "outputs": [],
   "source": [
    "# I was assigned the environmental data for my group project so specifically these variables:\n",
    "env_vars = ['Weather_Timestamp', 'Temperature(F)', 'Wind_Chill(F)', 'Humidity(%)', 'Pressure(in)', \n",
    "                    'Visibility(mi)', 'Wind_Direction', 'Wind_Speed(mph)', 'Precipitation(in)', 'Weather_Condition', \n",
    "                    'Sunrise_Sunset', 'Civil_Twilight', 'Nautical_Twilight', 'Astronomical_Twilight']"
   ]
  },
  {
   "cell_type": "code",
   "execution_count": 85,
   "metadata": {
    "collapsed": true
   },
   "outputs": [
    {
     "name": "stdout",
     "output_type": "stream",
     "text": [
      "      Weather_Timestamp  Temperature(F)  Wind_Chill(F)  Humidity(%)  \\\n",
      "0       3/22/2016 19:47            64.0            NaN         24.0   \n",
      "1       3/22/2016 20:53            64.0            NaN         23.0   \n",
      "2        3/23/2016 7:47            55.9            NaN         53.0   \n",
      "3       3/23/2016 11:47            73.9            NaN         14.0   \n",
      "4       3/23/2016 11:47            73.9            NaN         14.0   \n",
      "...                 ...             ...            ...          ...   \n",
      "61150  12/10/2019 15:52            65.0           65.0         63.0   \n",
      "61151  12/10/2019 15:52            65.0           65.0         63.0   \n",
      "61152  12/10/2019 16:53            62.0           62.0         53.0   \n",
      "61153  12/10/2019 16:52            64.0           64.0         70.0   \n",
      "61154  12/10/2019 16:52            64.0           64.0         70.0   \n",
      "\n",
      "       Pressure(in)  Visibility(mi) Wind_Direction  Wind_Speed(mph)  \\\n",
      "0             30.00            10.0            NNW              9.2   \n",
      "1             30.02            10.0            NNW             11.5   \n",
      "2             30.11            10.0           Calm              NaN   \n",
      "3             30.15            10.0           Calm              NaN   \n",
      "4             30.15            10.0           Calm              NaN   \n",
      "...             ...             ...            ...              ...   \n",
      "61150         29.97            10.0              W              5.0   \n",
      "61151         29.97            10.0              W              5.0   \n",
      "61152         29.34            10.0            WSW              5.0   \n",
      "61153         29.98            10.0           CALM              0.0   \n",
      "61154         29.98            10.0           CALM              0.0   \n",
      "\n",
      "       Precipitation(in) Weather_Condition Sunrise_Sunset Civil_Twilight  \\\n",
      "0                    NaN             Clear          Night          Night   \n",
      "1                    NaN             Clear          Night          Night   \n",
      "2                    NaN             Clear            Day            Day   \n",
      "3                    NaN             Clear            Day            Day   \n",
      "4                    NaN             Clear            Day            Day   \n",
      "...                  ...               ...            ...            ...   \n",
      "61150                0.0     Mostly Cloudy            Day            Day   \n",
      "61151                0.0     Mostly Cloudy            Day            Day   \n",
      "61152                0.0            Cloudy            Day            Day   \n",
      "61153                0.0            Cloudy          Night            Day   \n",
      "61154                0.0            Cloudy          Night            Day   \n",
      "\n",
      "      Nautical_Twilight Astronomical_Twilight  \n",
      "0                   Day                   Day  \n",
      "1                 Night                 Night  \n",
      "2                   Day                   Day  \n",
      "3                   Day                   Day  \n",
      "4                   Day                   Day  \n",
      "...                 ...                   ...  \n",
      "61150               Day                   Day  \n",
      "61151               Day                   Day  \n",
      "61152               Day                   Day  \n",
      "61153               Day                   Day  \n",
      "61154               Day                   Day  \n",
      "\n",
      "[61155 rows x 14 columns]\n"
     ]
    }
   ],
   "source": [
    "# Keeps only the environmental variables in my dataframe:\n",
    "for i in raw_data:\n",
    "    if i in env_vars:\n",
    "        continue\n",
    "    else: \n",
    "        raw_data = raw_data.drop(i, axis = 1)\n",
    "        \n",
    "print(raw_data)"
   ]
  },
  {
   "cell_type": "code",
   "execution_count": 72,
   "metadata": {
    "collapsed": true
   },
   "outputs": [
    {
     "name": "stdout",
     "output_type": "stream",
     "text": [
      "Percent of missing rows by column \n",
      "\n",
      " Weather_Timestamp        0.006704\n",
      "Temperature(F)           0.008863\n",
      "Wind_Chill(F)            0.295364\n",
      "Humidity(%)              0.009370\n",
      "Pressure(in)             0.008617\n",
      "Visibility(mi)           0.008846\n",
      "Wind_Direction           0.017529\n",
      "Wind_Speed(mph)          0.075497\n",
      "Precipitation(in)        0.287466\n",
      "Weather_Condition        0.008356\n",
      "Sunrise_Sunset           0.000000\n",
      "Civil_Twilight           0.000000\n",
      "Nautical_Twilight        0.000000\n",
      "Astronomical_Twilight    0.000000\n",
      "dtype: float64\n"
     ]
    }
   ],
   "source": [
    "print('Percent of missing rows by column', '\\n\\n', raw_data.isnull().sum()/len(raw_data))"
   ]
  },
  {
   "cell_type": "code",
   "execution_count": 86,
   "metadata": {},
   "outputs": [],
   "source": [
    "# After some trial and error I found that I can afford to remove any row \n",
    "# that has more than 2 missing values without losing very much data:\n",
    "raw_data['number_missing'] = raw_data.isnull().sum(axis=1)\n",
    "df_filtered = raw_data[raw_data['number_missing'] < 3]"
   ]
  },
  {
   "cell_type": "code",
   "execution_count": 74,
   "metadata": {
    "scrolled": false
   },
   "outputs": [
    {
     "data": {
      "text/plain": [
       "(56668, 15)"
      ]
     },
     "execution_count": 74,
     "metadata": {},
     "output_type": "execute_result"
    }
   ],
   "source": [
    "df_filtered.shape"
   ]
  },
  {
   "cell_type": "code",
   "execution_count": 76,
   "metadata": {
    "collapsed": true
   },
   "outputs": [
    {
     "name": "stdout",
     "output_type": "stream",
     "text": [
      "Percent of missing rows by column \n",
      "\n",
      " Weather_Timestamp        0.000000\n",
      "Temperature(F)           0.000000\n",
      "Wind_Chill(F)            0.239571\n",
      "Humidity(%)              0.000547\n",
      "Pressure(in)             0.000071\n",
      "Visibility(mi)           0.001129\n",
      "Wind_Direction           0.000018\n",
      "Wind_Speed(mph)          0.003265\n",
      "Precipitation(in)        0.243241\n",
      "Weather_Condition        0.000565\n",
      "Sunrise_Sunset           0.000000\n",
      "Civil_Twilight           0.000000\n",
      "Nautical_Twilight        0.000000\n",
      "Astronomical_Twilight    0.000000\n",
      "number_missing           0.000000\n",
      "dtype: float64\n"
     ]
    }
   ],
   "source": [
    "# Wind Chill and Precipitation still have a lot of missing data (ie about 24% for each):\n",
    "# Because there are values that equal 0 in precipitation I am unsure whether NaN means\n",
    "# precipitation = 0. I am also unclear with with Wind Chill \n",
    "print('Percent of missing rows by column', '\\n\\n', df_filtered.isnull().sum()/len(df_filtered))"
   ]
  },
  {
   "cell_type": "code",
   "execution_count": 87,
   "metadata": {
    "collapsed": true
   },
   "outputs": [
    {
     "name": "stderr",
     "output_type": "stream",
     "text": [
      "C:\\Users\\Russ\\anaconda3\\lib\\site-packages\\pandas\\core\\series.py:4517: SettingWithCopyWarning: \n",
      "A value is trying to be set on a copy of a slice from a DataFrame\n",
      "\n",
      "See the caveats in the documentation: https://pandas.pydata.org/pandas-docs/stable/user_guide/indexing.html#returning-a-view-versus-a-copy\n",
      "  return super().fillna(\n"
     ]
    }
   ],
   "source": [
    "# I will assume that if windchill is NaN then I will set it equal to the temperature: \n",
    "df_filtered['Wind_Chill(F)'].fillna(df_filtered['Temperature(F)'], inplace=True)"
   ]
  },
  {
   "cell_type": "code",
   "execution_count": 88,
   "metadata": {},
   "outputs": [
    {
     "name": "stderr",
     "output_type": "stream",
     "text": [
      "C:\\Users\\Russ\\anaconda3\\lib\\site-packages\\pandas\\core\\indexing.py:1765: SettingWithCopyWarning: \n",
      "A value is trying to be set on a copy of a slice from a DataFrame.\n",
      "Try using .loc[row_indexer,col_indexer] = value instead\n",
      "\n",
      "See the caveats in the documentation: https://pandas.pydata.org/pandas-docs/stable/user_guide/indexing.html#returning-a-view-versus-a-copy\n",
      "  isetter(loc, value)\n"
     ]
    }
   ],
   "source": [
    "# All other missing numeric datatypes will be set to the median. \n",
    "# This works out so that days where precipitation was undefined are assumed \n",
    "# to be days with no rain. \n",
    "df_num = df_filtered.select_dtypes(include=np.number)\n",
    "\n",
    "for i in df_filtered:\n",
    "    if i in df_num:\n",
    "        df_filtered.loc[df_filtered.loc[:,i].isnull(),i] = df_num.loc[:,i].median()\n",
    "    else:\n",
    "        continue\n",
    "        \n",
    "        \n"
   ]
  },
  {
   "cell_type": "code",
   "execution_count": 91,
   "metadata": {},
   "outputs": [
    {
     "data": {
      "text/plain": [
       "(56668, 15)"
      ]
     },
     "execution_count": 91,
     "metadata": {},
     "output_type": "execute_result"
    }
   ],
   "source": [
    "df_filtered.shape"
   ]
  },
  {
   "cell_type": "code",
   "execution_count": 92,
   "metadata": {},
   "outputs": [
    {
     "data": {
      "text/html": [
       "<div>\n",
       "<style scoped>\n",
       "    .dataframe tbody tr th:only-of-type {\n",
       "        vertical-align: middle;\n",
       "    }\n",
       "\n",
       "    .dataframe tbody tr th {\n",
       "        vertical-align: top;\n",
       "    }\n",
       "\n",
       "    .dataframe thead th {\n",
       "        text-align: right;\n",
       "    }\n",
       "</style>\n",
       "<table border=\"1\" class=\"dataframe\">\n",
       "  <thead>\n",
       "    <tr style=\"text-align: right;\">\n",
       "      <th></th>\n",
       "      <th>Weather_Timestamp</th>\n",
       "      <th>Temperature(F)</th>\n",
       "      <th>Wind_Chill(F)</th>\n",
       "      <th>Humidity(%)</th>\n",
       "      <th>Pressure(in)</th>\n",
       "      <th>Visibility(mi)</th>\n",
       "      <th>Wind_Direction</th>\n",
       "      <th>Wind_Speed(mph)</th>\n",
       "      <th>Precipitation(in)</th>\n",
       "      <th>Weather_Condition</th>\n",
       "      <th>Sunrise_Sunset</th>\n",
       "      <th>Civil_Twilight</th>\n",
       "      <th>Nautical_Twilight</th>\n",
       "      <th>Astronomical_Twilight</th>\n",
       "      <th>number_missing</th>\n",
       "    </tr>\n",
       "  </thead>\n",
       "  <tbody>\n",
       "    <tr>\n",
       "      <th>0</th>\n",
       "      <td>3/22/2016 19:47</td>\n",
       "      <td>64.0</td>\n",
       "      <td>64.0</td>\n",
       "      <td>24.0</td>\n",
       "      <td>30.00</td>\n",
       "      <td>10.0</td>\n",
       "      <td>NNW</td>\n",
       "      <td>9.2</td>\n",
       "      <td>0.0</td>\n",
       "      <td>Clear</td>\n",
       "      <td>Night</td>\n",
       "      <td>Night</td>\n",
       "      <td>Day</td>\n",
       "      <td>Day</td>\n",
       "      <td>2</td>\n",
       "    </tr>\n",
       "    <tr>\n",
       "      <th>1</th>\n",
       "      <td>3/22/2016 20:53</td>\n",
       "      <td>64.0</td>\n",
       "      <td>64.0</td>\n",
       "      <td>23.0</td>\n",
       "      <td>30.02</td>\n",
       "      <td>10.0</td>\n",
       "      <td>NNW</td>\n",
       "      <td>11.5</td>\n",
       "      <td>0.0</td>\n",
       "      <td>Clear</td>\n",
       "      <td>Night</td>\n",
       "      <td>Night</td>\n",
       "      <td>Night</td>\n",
       "      <td>Night</td>\n",
       "      <td>2</td>\n",
       "    </tr>\n",
       "    <tr>\n",
       "      <th>5</th>\n",
       "      <td>3/23/2016 12:53</td>\n",
       "      <td>75.0</td>\n",
       "      <td>75.0</td>\n",
       "      <td>13.0</td>\n",
       "      <td>30.16</td>\n",
       "      <td>10.0</td>\n",
       "      <td>West</td>\n",
       "      <td>10.4</td>\n",
       "      <td>0.0</td>\n",
       "      <td>Clear</td>\n",
       "      <td>Day</td>\n",
       "      <td>Day</td>\n",
       "      <td>Day</td>\n",
       "      <td>Day</td>\n",
       "      <td>2</td>\n",
       "    </tr>\n",
       "    <tr>\n",
       "      <th>6</th>\n",
       "      <td>3/23/2016 13:47</td>\n",
       "      <td>75.0</td>\n",
       "      <td>75.0</td>\n",
       "      <td>18.0</td>\n",
       "      <td>30.13</td>\n",
       "      <td>10.0</td>\n",
       "      <td>Variable</td>\n",
       "      <td>3.5</td>\n",
       "      <td>0.0</td>\n",
       "      <td>Clear</td>\n",
       "      <td>Day</td>\n",
       "      <td>Day</td>\n",
       "      <td>Day</td>\n",
       "      <td>Day</td>\n",
       "      <td>2</td>\n",
       "    </tr>\n",
       "    <tr>\n",
       "      <th>7</th>\n",
       "      <td>3/23/2016 13:47</td>\n",
       "      <td>75.0</td>\n",
       "      <td>75.0</td>\n",
       "      <td>18.0</td>\n",
       "      <td>30.13</td>\n",
       "      <td>10.0</td>\n",
       "      <td>Variable</td>\n",
       "      <td>3.5</td>\n",
       "      <td>0.0</td>\n",
       "      <td>Clear</td>\n",
       "      <td>Day</td>\n",
       "      <td>Day</td>\n",
       "      <td>Day</td>\n",
       "      <td>Day</td>\n",
       "      <td>2</td>\n",
       "    </tr>\n",
       "  </tbody>\n",
       "</table>\n",
       "</div>"
      ],
      "text/plain": [
       "  Weather_Timestamp  Temperature(F)  Wind_Chill(F)  Humidity(%)  Pressure(in)  \\\n",
       "0   3/22/2016 19:47            64.0           64.0         24.0         30.00   \n",
       "1   3/22/2016 20:53            64.0           64.0         23.0         30.02   \n",
       "5   3/23/2016 12:53            75.0           75.0         13.0         30.16   \n",
       "6   3/23/2016 13:47            75.0           75.0         18.0         30.13   \n",
       "7   3/23/2016 13:47            75.0           75.0         18.0         30.13   \n",
       "\n",
       "   Visibility(mi) Wind_Direction  Wind_Speed(mph)  Precipitation(in)  \\\n",
       "0            10.0            NNW              9.2                0.0   \n",
       "1            10.0            NNW             11.5                0.0   \n",
       "5            10.0           West             10.4                0.0   \n",
       "6            10.0       Variable              3.5                0.0   \n",
       "7            10.0       Variable              3.5                0.0   \n",
       "\n",
       "  Weather_Condition Sunrise_Sunset Civil_Twilight Nautical_Twilight  \\\n",
       "0             Clear          Night          Night               Day   \n",
       "1             Clear          Night          Night             Night   \n",
       "5             Clear            Day            Day               Day   \n",
       "6             Clear            Day            Day               Day   \n",
       "7             Clear            Day            Day               Day   \n",
       "\n",
       "  Astronomical_Twilight  number_missing  \n",
       "0                   Day               2  \n",
       "1                 Night               2  \n",
       "5                   Day               2  \n",
       "6                   Day               2  \n",
       "7                   Day               2  "
      ]
     },
     "execution_count": 92,
     "metadata": {},
     "output_type": "execute_result"
    }
   ],
   "source": [
    "df_filtered.head()"
   ]
  },
  {
   "cell_type": "code",
   "execution_count": 100,
   "metadata": {},
   "outputs": [
    {
     "name": "stdout",
     "output_type": "stream",
     "text": [
      "Percent of missing rows by column \n",
      "\n",
      " Weather_Timestamp        0.0\n",
      "Temperature(F)           0.0\n",
      "Wind_Chill(F)            0.0\n",
      "Humidity(%)              0.0\n",
      "Pressure(in)             0.0\n",
      "Visibility(mi)           0.0\n",
      "Wind_Direction           0.0\n",
      "Wind_Speed(mph)          0.0\n",
      "Precipitation(in)        0.0\n",
      "Weather_Condition        0.0\n",
      "Sunrise_Sunset           0.0\n",
      "Civil_Twilight           0.0\n",
      "Nautical_Twilight        0.0\n",
      "Astronomical_Twilight    0.0\n",
      "dtype: float64\n"
     ]
    }
   ],
   "source": [
    "print('Percent of missing rows by column', '\\n\\n', df_filtered.isnull().sum()/len(df_filtered))"
   ]
  },
  {
   "cell_type": "code",
   "execution_count": 99,
   "metadata": {},
   "outputs": [],
   "source": [
    "# We can simply eliminate the very few rows that still have missing data\n",
    "# Also we no longer need 'number_missing':\n",
    "df_filtered = df_filtered.iloc[:,0:-1].dropna()"
   ]
  },
  {
   "cell_type": "code",
   "execution_count": 101,
   "metadata": {},
   "outputs": [
    {
     "data": {
      "text/plain": [
       "(56635, 14)"
      ]
     },
     "execution_count": 101,
     "metadata": {},
     "output_type": "execute_result"
    }
   ],
   "source": [
    "df_filtered.shape"
   ]
  }
 ],
 "metadata": {
  "kernelspec": {
   "display_name": "Python 3",
   "language": "python",
   "name": "python3"
  },
  "language_info": {
   "codemirror_mode": {
    "name": "ipython",
    "version": 3
   },
   "file_extension": ".py",
   "mimetype": "text/x-python",
   "name": "python",
   "nbconvert_exporter": "python",
   "pygments_lexer": "ipython3",
   "version": "3.8.5"
  }
 },
 "nbformat": 4,
 "nbformat_minor": 4
}
